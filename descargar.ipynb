{
 "cells": [
  {
   "cell_type": "code",
   "execution_count": null,
   "id": "e5316ecf",
   "metadata": {
    "vscode": {
     "languageId": "plaintext"
    }
   },
   "outputs": [],
   "source": []
  },
  {
   "cell_type": "markdown",
   "id": "2783e032",
   "metadata": {},
   "source": [
    "Ejecutar :\".venv\\\\Scripts\\\\yt-dlp.exe\"\n"
   ]
  },
  {
   "cell_type": "markdown",
   "id": "1d123cf9",
   "metadata": {},
   "source": [
    "una vez entrando al entorno virtual ejecutar : python descargador.py                 \n"
   ]
  }
 ],
 "metadata": {
  "language_info": {
   "name": "python"
  }
 },
 "nbformat": 4,
 "nbformat_minor": 5
}
